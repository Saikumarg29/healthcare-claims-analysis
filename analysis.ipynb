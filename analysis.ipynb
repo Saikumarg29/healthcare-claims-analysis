{
 "cells": [
  {
   "cell_type": "markdown",
   "metadata": {},
   "source": ["# Healthcare Claims Analysis (Enhanced Dataset)\nThis notebook analyzes 4,500+ real-world healthcare claim records."]
  },
  {
   "cell_type": "code",
   "execution_count": null,
   "metadata": {},
   "outputs": [],
   "source": [
    "import pandas as pd\n",
    "import matplotlib.pyplot as plt\n",
    "import seaborn as sns\n",
    "df = pd.read_csv('../data/claims_data.csv')\n",
    "plt.figure(figsize=(8,5))\n",
    "sns.barplot(x=df['ClaimType'].value_counts().index, y=df['ClaimType'].value_counts().values)\n",
    "plt.title('Claim Count by Type')\n",
    "plt.xticks(rotation=45)\n",
    "plt.tight_layout()\n",
    "plt.savefig('../visuals/claim_type_count.png')\n",
    "plt.show()\n",
    "monthly_trend = df.groupby(df['ClaimDate'].str[:7]).ClaimAmount.sum()\n",
    "monthly_trend.plot(kind='line', title='Monthly Claim Total')\n",
    "plt.xticks(rotation=45)\n",
    "plt.tight_layout()\n",
    "plt.savefig('../visuals/monthly_trend.png')\n",
    "plt.show()"
   ]
  }
 ],
 "metadata": {},
 "nbformat": 4,
 "nbformat_minor": 2
}