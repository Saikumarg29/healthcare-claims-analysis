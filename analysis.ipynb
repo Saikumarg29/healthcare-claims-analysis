{
 "cells": [
  {
   "cell_type": "markdown",
   "metadata": {},
   "source": ["# Healthcare Claims Analysis\nThis notebook analyzes claim amounts and frequencies."]
  },
  {
   "cell_type": "code",
   "execution_count": null,
   "metadata": {},
   "outputs": [],
   "source": [
    "import pandas as pd\n",
    "import matplotlib.pyplot as plt\n",
    "df = pd.read_csv('../data/claims_data.csv')\n",
    "df.groupby('ClaimType')['ClaimAmount'].mean().plot(kind='bar', title='Average Claim Amount by Type')\n",
    "plt.tight_layout()\n",
    "plt.savefig('../visuals/claim_amount_by_type.png')\n",
    "plt.show()"
   ]
  }
 ],
 "metadata": {},
 "nbformat": 4,
 "nbformat_minor": 2
}